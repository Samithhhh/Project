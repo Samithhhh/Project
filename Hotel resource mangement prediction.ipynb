{
 "cells": [
  {
   "cell_type": "code",
   "execution_count": 3,
   "id": "de86453d",
   "metadata": {},
   "outputs": [],
   "source": [
    "import pandas as pd\n",
    "import numpy as np"
   ]
  },
  {
   "cell_type": "code",
   "execution_count": 4,
   "id": "8b6378fd",
   "metadata": {},
   "outputs": [
    {
     "name": "stdout",
     "output_type": "stream",
     "text": [
      "      Booking_ID  no_of_adults  no_of_children  no_of_weekend_nights  \\\n",
      "0       INN00001             2               0                     1   \n",
      "1       INN00002             2               0                     2   \n",
      "2       INN00003             1               0                     2   \n",
      "3       INN00004             2               0                     0   \n",
      "4       INN00005             2               0                     1   \n",
      "...          ...           ...             ...                   ...   \n",
      "36270   INN36271             3               0                     2   \n",
      "36271   INN36272             2               0                     1   \n",
      "36272   INN36273             2               0                     2   \n",
      "36273   INN36274             2               0                     0   \n",
      "36274   INN36275             2               0                     1   \n",
      "\n",
      "       no_of_week_nights type_of_meal_plan  required_car_parking_space  \\\n",
      "0                      2       Meal Plan 1                           0   \n",
      "1                      3      Not Selected                           0   \n",
      "2                      1       Meal Plan 1                           0   \n",
      "3                      2       Meal Plan 1                           0   \n",
      "4                      1      Not Selected                           0   \n",
      "...                  ...               ...                         ...   \n",
      "36270                  6       Meal Plan 1                           0   \n",
      "36271                  3       Meal Plan 1                           0   \n",
      "36272                  6       Meal Plan 1                           0   \n",
      "36273                  3      Not Selected                           0   \n",
      "36274                  2       Meal Plan 1                           0   \n",
      "\n",
      "      room_type_reserved  lead_time  arrival_year  arrival_month  \\\n",
      "0            Room_Type 1        224          2017             10   \n",
      "1            Room_Type 1          5          2018             11   \n",
      "2            Room_Type 1          1          2018              2   \n",
      "3            Room_Type 1        211          2018              5   \n",
      "4            Room_Type 1         48          2018              4   \n",
      "...                  ...        ...           ...            ...   \n",
      "36270        Room_Type 4         85          2018              8   \n",
      "36271        Room_Type 1        228          2018             10   \n",
      "36272        Room_Type 1        148          2018              7   \n",
      "36273        Room_Type 1         63          2018              4   \n",
      "36274        Room_Type 1        207          2018             12   \n",
      "\n",
      "       arrival_date market_segment_type  repeated_guest  \\\n",
      "0                 2             Offline               0   \n",
      "1                 6              Online               0   \n",
      "2                28              Online               0   \n",
      "3                20              Online               0   \n",
      "4                11              Online               0   \n",
      "...             ...                 ...             ...   \n",
      "36270             3              Online               0   \n",
      "36271            17              Online               0   \n",
      "36272             1              Online               0   \n",
      "36273            21              Online               0   \n",
      "36274            30             Offline               0   \n",
      "\n",
      "       no_of_previous_cancellations  no_of_previous_bookings_not_canceled  \\\n",
      "0                                 0                                     0   \n",
      "1                                 0                                     0   \n",
      "2                                 0                                     0   \n",
      "3                                 0                                     0   \n",
      "4                                 0                                     0   \n",
      "...                             ...                                   ...   \n",
      "36270                             0                                     0   \n",
      "36271                             0                                     0   \n",
      "36272                             0                                     0   \n",
      "36273                             0                                     0   \n",
      "36274                             0                                     0   \n",
      "\n",
      "       avg_price_per_room  no_of_special_requests booking_status  \n",
      "0                   65.00                       0   Not_Canceled  \n",
      "1                  106.68                       1   Not_Canceled  \n",
      "2                   60.00                       0       Canceled  \n",
      "3                  100.00                       0       Canceled  \n",
      "4                   94.50                       0       Canceled  \n",
      "...                   ...                     ...            ...  \n",
      "36270              167.80                       1   Not_Canceled  \n",
      "36271               90.95                       2       Canceled  \n",
      "36272               98.39                       2   Not_Canceled  \n",
      "36273               94.50                       0       Canceled  \n",
      "36274              161.67                       0   Not_Canceled  \n",
      "\n",
      "[36275 rows x 19 columns]\n"
     ]
    }
   ],
   "source": [
    "df=pd.read_csv(\"Hotel Reservations.csv\")\n",
    "print(df)"
   ]
  },
  {
   "cell_type": "code",
   "execution_count": 7,
   "id": "749a3bb6",
   "metadata": {},
   "outputs": [
    {
     "name": "stdout",
     "output_type": "stream",
     "text": [
      "      Booking_ID  no_of_adults  no_of_children  no_of_weekend_nights  \\\n",
      "0       INN00001             2               0                     1   \n",
      "1       INN00002             2               0                     2   \n",
      "2       INN00003             1               0                     2   \n",
      "3       INN00004             2               0                     0   \n",
      "4       INN00005             2               0                     1   \n",
      "...          ...           ...             ...                   ...   \n",
      "36270   INN36271             3               0                     2   \n",
      "36271   INN36272             2               0                     1   \n",
      "36272   INN36273             2               0                     2   \n",
      "36273   INN36274             2               0                     0   \n",
      "36274   INN36275             2               0                     1   \n",
      "\n",
      "       no_of_week_nights type_of_meal_plan  required_car_parking_space  \\\n",
      "0                      2       Meal Plan 1                           0   \n",
      "1                      3      Not Selected                           0   \n",
      "2                      1       Meal Plan 1                           0   \n",
      "3                      2       Meal Plan 1                           0   \n",
      "4                      1      Not Selected                           0   \n",
      "...                  ...               ...                         ...   \n",
      "36270                  6       Meal Plan 1                           0   \n",
      "36271                  3       Meal Plan 1                           0   \n",
      "36272                  6       Meal Plan 1                           0   \n",
      "36273                  3      Not Selected                           0   \n",
      "36274                  2       Meal Plan 1                           0   \n",
      "\n",
      "      room_type_reserved  lead_time  arrival_year  arrival_month  \\\n",
      "0            Room_Type 1        224          2017             10   \n",
      "1            Room_Type 1          5          2018             11   \n",
      "2            Room_Type 1          1          2018              2   \n",
      "3            Room_Type 1        211          2018              5   \n",
      "4            Room_Type 1         48          2018              4   \n",
      "...                  ...        ...           ...            ...   \n",
      "36270        Room_Type 4         85          2018              8   \n",
      "36271        Room_Type 1        228          2018             10   \n",
      "36272        Room_Type 1        148          2018              7   \n",
      "36273        Room_Type 1         63          2018              4   \n",
      "36274        Room_Type 1        207          2018             12   \n",
      "\n",
      "       arrival_date market_segment_type  repeated_guest  \\\n",
      "0                 2             Offline               0   \n",
      "1                 6              Online               0   \n",
      "2                28              Online               0   \n",
      "3                20              Online               0   \n",
      "4                11              Online               0   \n",
      "...             ...                 ...             ...   \n",
      "36270             3              Online               0   \n",
      "36271            17              Online               0   \n",
      "36272             1              Online               0   \n",
      "36273            21              Online               0   \n",
      "36274            30             Offline               0   \n",
      "\n",
      "       no_of_previous_cancellations  no_of_previous_bookings_not_canceled  \\\n",
      "0                                 0                                     0   \n",
      "1                                 0                                     0   \n",
      "2                                 0                                     0   \n",
      "3                                 0                                     0   \n",
      "4                                 0                                     0   \n",
      "...                             ...                                   ...   \n",
      "36270                             0                                     0   \n",
      "36271                             0                                     0   \n",
      "36272                             0                                     0   \n",
      "36273                             0                                     0   \n",
      "36274                             0                                     0   \n",
      "\n",
      "       avg_price_per_room  no_of_special_requests booking_status  \n",
      "0                   65.00                       0   Not_Canceled  \n",
      "1                  106.68                       1   Not_Canceled  \n",
      "2                   60.00                       0       Canceled  \n",
      "3                  100.00                       0       Canceled  \n",
      "4                   94.50                       0       Canceled  \n",
      "...                   ...                     ...            ...  \n",
      "36270              167.80                       1   Not_Canceled  \n",
      "36271               90.95                       2       Canceled  \n",
      "36272               98.39                       2   Not_Canceled  \n",
      "36273               94.50                       0       Canceled  \n",
      "36274              161.67                       0   Not_Canceled  \n",
      "\n",
      "[36275 rows x 19 columns]\n"
     ]
    }
   ],
   "source": [
    "df.head()\n",
    "print(df)"
   ]
  },
  {
   "cell_type": "code",
   "execution_count": 8,
   "id": "65b852b1",
   "metadata": {},
   "outputs": [
    {
     "name": "stdout",
     "output_type": "stream",
     "text": [
      "      Booking_ID  no_of_adults  no_of_children  no_of_weekend_nights  \\\n",
      "0       INN00001             2               0                     1   \n",
      "1       INN00002             2               0                     2   \n",
      "2       INN00003             1               0                     2   \n",
      "3       INN00004             2               0                     0   \n",
      "4       INN00005             2               0                     1   \n",
      "...          ...           ...             ...                   ...   \n",
      "36270   INN36271             3               0                     2   \n",
      "36271   INN36272             2               0                     1   \n",
      "36272   INN36273             2               0                     2   \n",
      "36273   INN36274             2               0                     0   \n",
      "36274   INN36275             2               0                     1   \n",
      "\n",
      "       no_of_week_nights type_of_meal_plan  required_car_parking_space  \\\n",
      "0                      2       Meal Plan 1                           0   \n",
      "1                      3      Not Selected                           0   \n",
      "2                      1       Meal Plan 1                           0   \n",
      "3                      2       Meal Plan 1                           0   \n",
      "4                      1      Not Selected                           0   \n",
      "...                  ...               ...                         ...   \n",
      "36270                  6       Meal Plan 1                           0   \n",
      "36271                  3       Meal Plan 1                           0   \n",
      "36272                  6       Meal Plan 1                           0   \n",
      "36273                  3      Not Selected                           0   \n",
      "36274                  2       Meal Plan 1                           0   \n",
      "\n",
      "      room_type_reserved  lead_time  arrival_year  arrival_month  \\\n",
      "0            Room_Type 1        224          2017             10   \n",
      "1            Room_Type 1          5          2018             11   \n",
      "2            Room_Type 1          1          2018              2   \n",
      "3            Room_Type 1        211          2018              5   \n",
      "4            Room_Type 1         48          2018              4   \n",
      "...                  ...        ...           ...            ...   \n",
      "36270        Room_Type 4         85          2018              8   \n",
      "36271        Room_Type 1        228          2018             10   \n",
      "36272        Room_Type 1        148          2018              7   \n",
      "36273        Room_Type 1         63          2018              4   \n",
      "36274        Room_Type 1        207          2018             12   \n",
      "\n",
      "       arrival_date market_segment_type  repeated_guest  \\\n",
      "0                 2             Offline               0   \n",
      "1                 6              Online               0   \n",
      "2                28              Online               0   \n",
      "3                20              Online               0   \n",
      "4                11              Online               0   \n",
      "...             ...                 ...             ...   \n",
      "36270             3              Online               0   \n",
      "36271            17              Online               0   \n",
      "36272             1              Online               0   \n",
      "36273            21              Online               0   \n",
      "36274            30             Offline               0   \n",
      "\n",
      "       no_of_previous_cancellations  no_of_previous_bookings_not_canceled  \\\n",
      "0                                 0                                     0   \n",
      "1                                 0                                     0   \n",
      "2                                 0                                     0   \n",
      "3                                 0                                     0   \n",
      "4                                 0                                     0   \n",
      "...                             ...                                   ...   \n",
      "36270                             0                                     0   \n",
      "36271                             0                                     0   \n",
      "36272                             0                                     0   \n",
      "36273                             0                                     0   \n",
      "36274                             0                                     0   \n",
      "\n",
      "       avg_price_per_room  no_of_special_requests booking_status  \n",
      "0                   65.00                       0   Not_Canceled  \n",
      "1                  106.68                       1   Not_Canceled  \n",
      "2                   60.00                       0       Canceled  \n",
      "3                  100.00                       0       Canceled  \n",
      "4                   94.50                       0       Canceled  \n",
      "...                   ...                     ...            ...  \n",
      "36270              167.80                       1   Not_Canceled  \n",
      "36271               90.95                       2       Canceled  \n",
      "36272               98.39                       2   Not_Canceled  \n",
      "36273               94.50                       0       Canceled  \n",
      "36274              161.67                       0   Not_Canceled  \n",
      "\n",
      "[36275 rows x 19 columns]\n"
     ]
    }
   ],
   "source": [
    "df.tail()\n",
    "print(df)"
   ]
  },
  {
   "cell_type": "code",
   "execution_count": 5,
   "id": "3ded950f",
   "metadata": {},
   "outputs": [
    {
     "name": "stdout",
     "output_type": "stream",
     "text": [
      "['Meal Plan 1' 'Not Selected' 'Meal Plan 2' 'Meal Plan 3']\n"
     ]
    }
   ],
   "source": [
    "unique_values=df['type_of_meal_plan'].unique()\n",
    "print(unique_values)\n"
   ]
  },
  {
   "cell_type": "code",
   "execution_count": 6,
   "id": "130d72f3",
   "metadata": {},
   "outputs": [
    {
     "name": "stdout",
     "output_type": "stream",
     "text": [
      "0                   1\n",
      "1        Not Selected\n",
      "2                   1\n",
      "3                   1\n",
      "4        Not Selected\n",
      "             ...     \n",
      "36270               1\n",
      "36271               1\n",
      "36272               1\n",
      "36273    Not Selected\n",
      "36274               1\n",
      "Name: type_of_meal_plan, Length: 36275, dtype: object\n"
     ]
    }
   ],
   "source": [
    "df['type_of_meal_plan']=df['type_of_meal_plan'].replace({'No Selected':0,'Meal Plan 1':1,'Meal Plan 2':2,'Meal Plan 3':3})\n",
    "print(df['type_of_meal_plan'])"
   ]
  },
  {
   "cell_type": "code",
   "execution_count": 7,
   "id": "202afe23",
   "metadata": {},
   "outputs": [
    {
     "name": "stdout",
     "output_type": "stream",
     "text": [
      "['Room_Type 1' 'Room_Type 4' 'Room_Type 2' 'Room_Type 6' 'Room_Type 5'\n",
      " 'Room_Type 7' 'Room_Type 3']\n"
     ]
    }
   ],
   "source": [
    "unique_values=df['room_type_reserved'].unique()\n",
    "print(unique_values)"
   ]
  },
  {
   "cell_type": "code",
   "execution_count": 8,
   "id": "1004f0ca",
   "metadata": {},
   "outputs": [
    {
     "name": "stdout",
     "output_type": "stream",
     "text": [
      "0        1\n",
      "1        1\n",
      "2        1\n",
      "3        1\n",
      "4        1\n",
      "        ..\n",
      "36270    4\n",
      "36271    1\n",
      "36272    1\n",
      "36273    1\n",
      "36274    1\n",
      "Name: room_type_reserved, Length: 36275, dtype: int64\n"
     ]
    }
   ],
   "source": [
    "df['room_type_reserved']=df['room_type_reserved'].replace({'Room_Type 1':1,'Room_Type 4':4,'Room_Type 2':2,'Room_Type 6':6,'Room_Type 5':5,'Room_Type 7':7,'Room_Type 3':3})\n",
    "print(df['room_type_reserved'])"
   ]
  },
  {
   "cell_type": "code",
   "execution_count": 9,
   "id": "f562acc6",
   "metadata": {},
   "outputs": [
    {
     "name": "stdout",
     "output_type": "stream",
     "text": [
      "['Offline' 'Online' 'Corporate' 'Aviation' 'Complementary']\n"
     ]
    }
   ],
   "source": [
    "unique_values=df['market_segment_type'].unique()\n",
    "print(unique_values)"
   ]
  },
  {
   "cell_type": "code",
   "execution_count": 10,
   "id": "eba0eb97",
   "metadata": {},
   "outputs": [
    {
     "name": "stdout",
     "output_type": "stream",
     "text": [
      "0        1\n",
      "1        2\n",
      "2        2\n",
      "3        2\n",
      "4        2\n",
      "        ..\n",
      "36270    2\n",
      "36271    2\n",
      "36272    2\n",
      "36273    2\n",
      "36274    1\n",
      "Name: market_segment_type, Length: 36275, dtype: int64\n"
     ]
    }
   ],
   "source": [
    "df['market_segment_type']=df['market_segment_type'].replace({'Offline':1,'Online':2,'Corporate':3,'Aviation':4,'Complementary':5})\n",
    "print(df['market_segment_type'])"
   ]
  },
  {
   "cell_type": "code",
   "execution_count": 11,
   "id": "b7744b30",
   "metadata": {},
   "outputs": [
    {
     "name": "stdout",
     "output_type": "stream",
     "text": [
      "['Not_Canceled' 'Canceled']\n"
     ]
    }
   ],
   "source": [
    "unique_values=df['booking_status'].unique()\n",
    "print(unique_values)"
   ]
  },
  {
   "cell_type": "code",
   "execution_count": 12,
   "id": "303773c7",
   "metadata": {},
   "outputs": [
    {
     "name": "stdout",
     "output_type": "stream",
     "text": [
      "0        0\n",
      "1        0\n",
      "2        1\n",
      "3        1\n",
      "4        1\n",
      "        ..\n",
      "36270    0\n",
      "36271    1\n",
      "36272    0\n",
      "36273    1\n",
      "36274    0\n",
      "Name: booking_status, Length: 36275, dtype: int64\n"
     ]
    }
   ],
   "source": [
    "df['booking_status']=df['booking_status'].replace({'Not_Canceled':0,'Canceled':1})\n",
    "print(df['booking_status'])"
   ]
  },
  {
   "cell_type": "code",
   "execution_count": 13,
   "id": "56c2b623",
   "metadata": {},
   "outputs": [],
   "source": [
    "import xgboost as xgb\n",
    "from sklearn.model_selection import train_test_split\n",
    "from sklearn.metrics import accuracy_score\n",
    "from sklearn.ensemble import RandomForestClassifier"
   ]
  },
  {
   "cell_type": "code",
   "execution_count": 19,
   "id": "b9f6dec4",
   "metadata": {},
   "outputs": [
    {
     "name": "stdout",
     "output_type": "stream",
     "text": [
      "Microsoft Windows [Version 10.0.22621.2428]\n",
      "(c) Microsoft Corporation. All rights reserved.\n",
      "\n",
      "C:\\Users\\Sahil>pip install xgboost\n",
      "Collecting xgboost\n",
      "  Obtaining dependency information for xgboost from https://files.pythonhosted.org/packages/bc/43/242432efc3f60052a4a534dc4926b21e236ab4ec8d4920c593da3f65c65d/xgboost-2.0.2-py3-none-win_amd64.whl.metadata\n",
      "  Downloading xgboost-2.0.2-py3-none-win_amd64.whl.metadata (2.0 kB)\n",
      "Requirement already satisfied: numpy in d:\\anaconda\\lib\\site-packages (from xgboost) (1.24.3)\n",
      "Requirement already satisfied: scipy in d:\\anaconda\\lib\\site-packages (from xgboost) (1.11.1)\n",
      "Downloading xgboost-2.0.2-py3-none-win_amd64.whl (99.8 MB)\n",
      "   ---------------------------------------- 99.8/99.8 MB 10.4 MB/s eta 0:00:00\n",
      "Installing collected packages: xgboost\n",
      "Successfully installed xgboost-2.0.2\n",
      "\n",
      "C:\\Users\\Sahil>"
     ]
    }
   ],
   "source": [
    "%%cmd\n",
    "pip install xgboost"
   ]
  },
  {
   "cell_type": "code",
   "execution_count": 14,
   "id": "9ac84d6e",
   "metadata": {},
   "outputs": [],
   "source": [
    "def one_hot_encode_dataframe(df,exclude_columns=[]):\n",
    "    object_columns=df.select_dtypes(include=['object']).columns\n",
    "    columns_to_encode=[col for col in object_columns if col not in exclude_columns]\n",
    "    df_encoded=pd.get_dummies(df,columns=columns_to_encode)\n",
    "    return df_encoded\n",
    "df_encoded=one_hot_encode_dataframe(df,exclude_columns=['Booking_ID','booking_status'])"
   ]
  },
  {
   "cell_type": "code",
   "execution_count": 15,
   "id": "db8a3781",
   "metadata": {},
   "outputs": [],
   "source": [
    "df_encoded.to_csv('df_encoded.csv', index=False)"
   ]
  },
  {
   "cell_type": "code",
   "execution_count": 16,
   "id": "e80077a8",
   "metadata": {},
   "outputs": [
    {
     "name": "stdout",
     "output_type": "stream",
     "text": [
      "0        0\n",
      "1        0\n",
      "2        1\n",
      "3        1\n",
      "4        1\n",
      "        ..\n",
      "36270    0\n",
      "36271    1\n",
      "36272    0\n",
      "36273    1\n",
      "36274    0\n",
      "Name: booking_status, Length: 36275, dtype: int64\n"
     ]
    }
   ],
   "source": [
    "df_encoded['booking_status'] = df_encoded['booking_status'].replace({\n",
    "    'Not_Canceled': 0,\n",
    "    'Canceled': 1,\n",
    "})\n",
    "print(df_encoded['booking_status'])"
   ]
  },
  {
   "cell_type": "code",
   "execution_count": 17,
   "id": "c248f14f",
   "metadata": {},
   "outputs": [],
   "source": [
    "from sklearn.model_selection import train_test_split\n",
    "from sklearn.svm import SVC\n",
    "from sklearn.metrics import accuracy_score\n",
    "\n",
    "# Prepare your features (X) and target variable (y)\n",
    "X = df_encoded.drop(['Booking_ID', 'booking_status'], axis=1)\n",
    "y = df_encoded['booking_status']\n",
    "\n",
    "# Split the data into training and testing sets\n",
    "X_train, X_test, y_train, y_test = train_test_split(X, y, test_size=0.3, random_state=33)\n",
    "\n",
    "# Initialize and train the SVM model\n",
    "svm_model = SVC()\n",
    "svm_model.fit(X_train, y_train)\n",
    "\n",
    "# Make predictions on the testing set\n",
    "y_pred = svm_model.predict(X_test)\n",
    "\n",
    "# Evaluate the model's performance\n",
    "accuracy = accuracy_score(y_test, y_pred)\n"
   ]
  },
  {
   "cell_type": "code",
   "execution_count": 18,
   "id": "f4b2b32a",
   "metadata": {},
   "outputs": [
    {
     "name": "stdout",
     "output_type": "stream",
     "text": [
      "Accuracy: 0.7615547183680971\n"
     ]
    }
   ],
   "source": [
    "print(\"Accuracy:\", accuracy)"
   ]
  },
  {
   "cell_type": "code",
   "execution_count": 19,
   "id": "01310777",
   "metadata": {},
   "outputs": [],
   "source": [
    "from sklearn.ensemble import RandomForestClassifier\n",
    "from sklearn.model_selection import train_test_split\n",
    "from sklearn.metrics import accuracy_score\n",
    "\n",
    "# Assuming 'df_encoded' is the one-hot encoded DataFrame\n",
    "X = df_encoded.drop(['Booking_ID', 'booking_status'], axis=1)\n",
    "y = df_encoded['booking_status']\n",
    "\n",
    "# Split the data into training and testing sets\n",
    "X_train, X_test, y_train, y_test = train_test_split(X, y, test_size=0.2, random_state=33)\n",
    "\n",
    "# Initialize the Random Forest classifier\n",
    "rf_model = RandomForestClassifier(n_estimators=100, random_state=42)\n",
    "\n",
    "# Train the model\n",
    "rf_model.fit(X_train, y_train)\n",
    "\n",
    "# Make predictions on the testing set\n",
    "y_pred = rf_model.predict(X_test)\n",
    "\n",
    "# Evaluate the model's performance\n",
    "accuracy = accuracy_score(y_test, y_pred)\n"
   ]
  },
  {
   "cell_type": "code",
   "execution_count": 20,
   "id": "7de00cf9",
   "metadata": {},
   "outputs": [
    {
     "name": "stdout",
     "output_type": "stream",
     "text": [
      "Accuracy: 0.9047553411440385\n"
     ]
    }
   ],
   "source": [
    "print(\"Accuracy:\", accuracy)"
   ]
  },
  {
   "cell_type": "code",
   "execution_count": 21,
   "id": "fb5a68c2",
   "metadata": {},
   "outputs": [
    {
     "name": "stdout",
     "output_type": "stream",
     "text": [
      "Cross-validation scores: [0.9007581  0.9026878  0.90103377 0.90503101 0.89965541]\n",
      "Average accuracy: 0.9018332184700206\n"
     ]
    }
   ],
   "source": [
    "#using corss validation to predict as well \n",
    "import pandas as pd\n",
    "import numpy as np\n",
    "from sklearn.ensemble import RandomForestClassifier\n",
    "from sklearn.model_selection import cross_val_score\n",
    "\n",
    "# Assuming 'df_encoded' is the one-hot encoded DataFrame\n",
    "X = df_encoded.drop(['Booking_ID', 'booking_status'], axis=1)\n",
    "y = df_encoded['booking_status']\n",
    "\n",
    "# Initialize the Random Forest classifier\n",
    "rf_model = RandomForestClassifier(n_estimators=100, random_state=33)\n",
    "\n",
    "# Perform cross-validation\n",
    "cv_scores = cross_val_score(rf_model, X, y, cv=5)  # cv=5 specifies 5-fold cross-validation\n",
    "\n",
    "# Print the cross-validation scores\n",
    "print(\"Cross-validation scores:\", cv_scores)\n",
    "print(\"Average accuracy:\", np.mean(cv_scores))"
   ]
  },
  {
   "cell_type": "code",
   "execution_count": 22,
   "id": "66f6a023",
   "metadata": {},
   "outputs": [
    {
     "data": {
      "image/png": "[encoded data removed]",
      "text/plain": [
       "<Figure size 800x600 with 2 Axes>"
      ]
     },
     "metadata": {},
     "output_type": "display_data"
    }
   ],
   "source": [
    "import pandas as pd\n",
    "import numpy as np\n",
    "from sklearn.ensemble import RandomForestClassifier\n",
    "from sklearn.model_selection import cross_val_predict\n",
    "from sklearn.metrics import confusion_matrix\n",
    "import matplotlib.pyplot as plt\n",
    "import seaborn as sns\n",
    "\n",
    "# Assuming 'df_encoded' is the one-hot encoded DataFrame\n",
    "X = df_encoded.drop(['Booking_ID', 'booking_status'], axis=1)\n",
    "y = df_encoded['booking_status']\n",
    "\n",
    "# Initialize the Random Forest classifier\n",
    "rf_model = RandomForestClassifier(n_estimators=100, random_state=33)\n",
    "\n",
    "# Perform cross-validation predictions\n",
    "y_pred = cross_val_predict(rf_model, X, y, cv=5)\n",
    "\n",
    "# Compute the confusion matrix\n",
    "confusion_mat = confusion_matrix(y, y_pred)\n",
    "\n",
    "# Plot the confusion matrix\n",
    "plt.figure(figsize=(8, 6))\n",
    "sns.heatmap(confusion_mat, annot=True, fmt=\"d\", cmap=\"Blues\")\n",
    "plt.title(\"Confusion Matrix\")\n",
    "plt.xlabel(\"Predicted Labels\")\n",
    "plt.ylabel(\"True Labels\")\n",
    "plt.show()"
   ]
  },
  {
   "cell_type": "code",
   "execution_count": 25,
   "id": "06dfc6e7",
   "metadata": {},
   "outputs": [],
   "source": [
    "import seaborn as sns"
   ]
  },
  {
   "cell_type": "code",
   "execution_count": 26,
   "id": "5cfc13b1",
   "metadata": {},
   "outputs": [
    {
     "data": {
      "text/plain": [
       "<Axes: xlabel='no_of_adults', ylabel='arrival_month'>"
      ]
     },
     "execution_count": 26,
     "metadata": {},
     "output_type": "execute_result"
    },
    {
     "data": {
      "image/png": "[encoded data removed]",
      "text/plain": [
       "<Figure size 640x480 with 1 Axes>"
      ]
     },
     "metadata": {},
     "output_type": "display_data"
    }
   ],
   "source": [
    "sns.scatterplot(x=\"no_of_adults\",y=\"arrival_month\",data=df)"
   ]
  },
  {
   "cell_type": "code",
   "execution_count": 28,
   "id": "e5dcdfcf",
   "metadata": {},
   "outputs": [
    {
     "data": {
      "text/plain": [
       "<Axes: xlabel='no_of_adults', ylabel='Count'>"
      ]
     },
     "execution_count": 28,
     "metadata": {},
     "output_type": "execute_result"
    },
    {
     "data": {
      "image/png": "[encoded data removed]",
      "text/plain": [
       "<Figure size 640x480 with 1 Axes>"
      ]
     },
     "metadata": {},
     "output_type": "display_data"
    }
   ],
   "source": [
    "sns.histplot(df['no_of_adults'],kde=True,bins=15)"
   ]
  },
  {
   "cell_type": "code",
   "execution_count": 29,
   "id": "db5c1612",
   "metadata": {},
   "outputs": [
    {
     "name": "stderr",
     "output_type": "stream",
     "text": [
      "C:\\Users\\Sahil\\AppData\\Local\\Temp\\ipykernel_6100\\1199021879.py:1: UserWarning: \n",
      "\n",
      "`distplot` is a deprecated function and will be removed in seaborn v0.14.0.\n",
      "\n",
      "Please adapt your code to use either `displot` (a figure-level function with\n",
      "similar flexibility) or `histplot` (an axes-level function for histograms).\n",
      "\n",
      "For a guide to updating your code to use the new functions, please see\n",
      "https://gist.github.com/mwaskom/de44147ed2974457ad6372750bbe5751\n",
      "\n",
      "  sns.distplot(df['no_of_adults'],kde=True,bins=15)\n"
     ]
    },
    {
     "data": {
      "text/plain": [
       "<Axes: xlabel='no_of_adults', ylabel='Density'>"
      ]
     },
     "execution_count": 29,
     "metadata": {},
     "output_type": "execute_result"
    },
    {
     "data": {
      "image/png": "[encoded data removed]",
      "text/plain": [
       "<Figure size 640x480 with 1 Axes>"
      ]
     },
     "metadata": {},
     "output_type": "display_data"
    }
   ],
   "source": [
    "sns.distplot(df['no_of_adults'],kde=True,bins=15)"
   ]
  },
  {
   "cell_type": "code",
   "execution_count": 30,
   "id": "2972bce7",
   "metadata": {},
   "outputs": [
    {
     "data": {
      "text/plain": [
       "<Axes: xlabel='no_of_adults', ylabel='arrival_month'>"
      ]
     },
     "execution_count": 30,
     "metadata": {},
     "output_type": "execute_result"
    },
    {
     "data": {
      "image/png": "[encoded data removed]",
      "text/plain": [
       "<Figure size 640x480 with 1 Axes>"
      ]
     },
     "metadata": {},
     "output_type": "display_data"
    }
   ],
   "source": [
    "sns.barplot(x=\"no_of_adults\",y=\"arrival_month\",data=df,palette=\"GnBu\")"
   ]
  },
  {
   "cell_type": "code",
   "execution_count": 32,
   "id": "555fc6bf",
   "metadata": {},
   "outputs": [
    {
     "data": {
      "text/plain": [
       "<Axes: xlabel='no_of_adults', ylabel='arrival_month'>"
      ]
     },
     "execution_count": 32,
     "metadata": {},
     "output_type": "execute_result"
    },
    {
     "data": {
      "image/png": "[encoded data removed]",
      "text/plain": [
       "<Figure size 640x480 with 1 Axes>"
      ]
     },
     "metadata": {},
     "output_type": "display_data"
    }
   ],
   "source": [
    "sns.boxplot(x=\"no_of_adults\",y=\"arrival_month\",data=df)"
   ]
  },
  {
   "cell_type": "code",
   "execution_count": 34,
   "id": "6bd2a2f5",
   "metadata": {},
   "outputs": [
    {
     "data": {
      "text/plain": [
       "<Axes: xlabel='no_of_adults', ylabel='arrival_month'>"
      ]
     },
     "execution_count": 34,
     "metadata": {},
     "output_type": "execute_result"
    },
    {
     "data": {
      "image/png": "[encoded data removed]",
      "text/plain": [
       "<Figure size 640x480 with 1 Axes>"
      ]
     },
     "metadata": {},
     "output_type": "display_data"
    }
   ],
   "source": [
    "sns.boxplot(x=\"no_of_adults\",y=\"arrival_month\",data=df,palette=\"GnBu\")"
   ]
  },
  {
   "cell_type": "code",
   "execution_count": 35,
   "id": "156b2ae4",
   "metadata": {},
   "outputs": [
    {
     "data": {
      "text/plain": [
       "<seaborn.axisgrid.JointGrid at 0x23a00da6910>"
      ]
     },
     "execution_count": 35,
     "metadata": {},
     "output_type": "execute_result"
    },
    {
     "data": {
      "image/png": "[encoded data removed]",
      "text/plain": [
       "<Figure size 600x600 with 3 Axes>"
      ]
     },
     "metadata": {},
     "output_type": "display_data"
    }
   ],
   "source": [
    "sns.jointplot(x=\"no_of_adults\",y=\"arrival_month\",data=df)"
   ]
  },
  {
   "cell_type": "code",
   "execution_count": 36,
   "id": "21b7b846",
   "metadata": {},
   "outputs": [
    {
     "ename": "ValueError",
     "evalue": "could not convert string to float: 'INN00001'",
     "output_type": "error",
     "traceback": [
      "\u001b[1;31m---------------------------------------------------------------------------\u001b[0m",
      "\u001b[1;31mValueError\u001b[0m                                Traceback (most recent call last)",
      "Cell \u001b[1;32mIn[36], line 1\u001b[0m\n\u001b[1;32m----> 1\u001b[0m sns\u001b[38;5;241m.\u001b[39mheatmap(df\u001b[38;5;241m.\u001b[39mcorr(),annot\u001b[38;5;241m=\u001b[39m\u001b[38;5;28;01mTrue\u001b[39;00m)\n",
      "File \u001b[1;32mD:\\anaconda\\Lib\\site-packages\\pandas\\core\\frame.py:10054\u001b[0m, in \u001b[0;36mDataFrame.corr\u001b[1;34m(self, method, min_periods, numeric_only)\u001b[0m\n\u001b[0;32m  10052\u001b[0m cols \u001b[38;5;241m=\u001b[39m data\u001b[38;5;241m.\u001b[39mcolumns\n\u001b[0;32m  10053\u001b[0m idx \u001b[38;5;241m=\u001b[39m cols\u001b[38;5;241m.\u001b[39mcopy()\n\u001b[1;32m> 10054\u001b[0m mat \u001b[38;5;241m=\u001b[39m data\u001b[38;5;241m.\u001b[39mto_numpy(dtype\u001b[38;5;241m=\u001b[39m\u001b[38;5;28mfloat\u001b[39m, na_value\u001b[38;5;241m=\u001b[39mnp\u001b[38;5;241m.\u001b[39mnan, copy\u001b[38;5;241m=\u001b[39m\u001b[38;5;28;01mFalse\u001b[39;00m)\n\u001b[0;32m  10056\u001b[0m \u001b[38;5;28;01mif\u001b[39;00m method \u001b[38;5;241m==\u001b[39m \u001b[38;5;124m\"\u001b[39m\u001b[38;5;124mpearson\u001b[39m\u001b[38;5;124m\"\u001b[39m:\n\u001b[0;32m  10057\u001b[0m     correl \u001b[38;5;241m=\u001b[39m libalgos\u001b[38;5;241m.\u001b[39mnancorr(mat, minp\u001b[38;5;241m=\u001b[39mmin_periods)\n",
      "File \u001b[1;32mD:\\anaconda\\Lib\\site-packages\\pandas\\core\\frame.py:1838\u001b[0m, in \u001b[0;36mDataFrame.to_numpy\u001b[1;34m(self, dtype, copy, na_value)\u001b[0m\n\u001b[0;32m   1836\u001b[0m \u001b[38;5;28;01mif\u001b[39;00m dtype \u001b[38;5;129;01mis\u001b[39;00m \u001b[38;5;129;01mnot\u001b[39;00m \u001b[38;5;28;01mNone\u001b[39;00m:\n\u001b[0;32m   1837\u001b[0m     dtype \u001b[38;5;241m=\u001b[39m np\u001b[38;5;241m.\u001b[39mdtype(dtype)\n\u001b[1;32m-> 1838\u001b[0m result \u001b[38;5;241m=\u001b[39m \u001b[38;5;28mself\u001b[39m\u001b[38;5;241m.\u001b[39m_mgr\u001b[38;5;241m.\u001b[39mas_array(dtype\u001b[38;5;241m=\u001b[39mdtype, copy\u001b[38;5;241m=\u001b[39mcopy, na_value\u001b[38;5;241m=\u001b[39mna_value)\n\u001b[0;32m   1839\u001b[0m \u001b[38;5;28;01mif\u001b[39;00m result\u001b[38;5;241m.\u001b[39mdtype \u001b[38;5;129;01mis\u001b[39;00m \u001b[38;5;129;01mnot\u001b[39;00m dtype:\n\u001b[0;32m   1840\u001b[0m     result \u001b[38;5;241m=\u001b[39m np\u001b[38;5;241m.\u001b[39marray(result, dtype\u001b[38;5;241m=\u001b[39mdtype, copy\u001b[38;5;241m=\u001b[39m\u001b[38;5;28;01mFalse\u001b[39;00m)\n",
      "File \u001b[1;32mD:\\anaconda\\Lib\\site-packages\\pandas\\core\\internals\\managers.py:1732\u001b[0m, in \u001b[0;36mBlockManager.as_array\u001b[1;34m(self, dtype, copy, na_value)\u001b[0m\n\u001b[0;32m   1730\u001b[0m         arr\u001b[38;5;241m.\u001b[39mflags\u001b[38;5;241m.\u001b[39mwriteable \u001b[38;5;241m=\u001b[39m \u001b[38;5;28;01mFalse\u001b[39;00m\n\u001b[0;32m   1731\u001b[0m \u001b[38;5;28;01melse\u001b[39;00m:\n\u001b[1;32m-> 1732\u001b[0m     arr \u001b[38;5;241m=\u001b[39m \u001b[38;5;28mself\u001b[39m\u001b[38;5;241m.\u001b[39m_interleave(dtype\u001b[38;5;241m=\u001b[39mdtype, na_value\u001b[38;5;241m=\u001b[39mna_value)\n\u001b[0;32m   1733\u001b[0m     \u001b[38;5;66;03m# The underlying data was copied within _interleave, so no need\u001b[39;00m\n\u001b[0;32m   1734\u001b[0m     \u001b[38;5;66;03m# to further copy if copy=True or setting na_value\u001b[39;00m\n\u001b[0;32m   1736\u001b[0m \u001b[38;5;28;01mif\u001b[39;00m na_value \u001b[38;5;129;01mis\u001b[39;00m \u001b[38;5;129;01mnot\u001b[39;00m lib\u001b[38;5;241m.\u001b[39mno_default:\n",
      "File \u001b[1;32mD:\\anaconda\\Lib\\site-packages\\pandas\\core\\internals\\managers.py:1794\u001b[0m, in \u001b[0;36mBlockManager._interleave\u001b[1;34m(self, dtype, na_value)\u001b[0m\n\u001b[0;32m   1792\u001b[0m     \u001b[38;5;28;01melse\u001b[39;00m:\n\u001b[0;32m   1793\u001b[0m         arr \u001b[38;5;241m=\u001b[39m blk\u001b[38;5;241m.\u001b[39mget_values(dtype)\n\u001b[1;32m-> 1794\u001b[0m     result[rl\u001b[38;5;241m.\u001b[39mindexer] \u001b[38;5;241m=\u001b[39m arr\n\u001b[0;32m   1795\u001b[0m     itemmask[rl\u001b[38;5;241m.\u001b[39mindexer] \u001b[38;5;241m=\u001b[39m \u001b[38;5;241m1\u001b[39m\n\u001b[0;32m   1797\u001b[0m \u001b[38;5;28;01mif\u001b[39;00m \u001b[38;5;129;01mnot\u001b[39;00m itemmask\u001b[38;5;241m.\u001b[39mall():\n",
      "\u001b[1;31mValueError\u001b[0m: could not convert string to float: 'INN00001'"
     ]
    }
   ],
   "source": [
    "sns.heatmap(df.corr(),annot=True)"
   ]
  },
  {
   "cell_type": "code",
   "execution_count": null,
   "id": "9da39f92",
   "metadata": {},
   "outputs": [],
   "source": []
  }
 ],
 "metadata": {
  "kernelspec": {
   "display_name": "Python 3 (ipykernel)",
   "language": "python",
   "name": "python3"
  },
  "language_info": {
   "codemirror_mode": {
    "name": "ipython",
    "version": 3
   },
   "file_extension": ".py",
   "mimetype": "text/x-python",
   "name": "python",
   "nbconvert_exporter": "python",
   "pygments_lexer": "ipython3",
   "version": "3.11.5"
  }
 },
 "nbformat": 4,
 "nbformat_minor": 5
}
